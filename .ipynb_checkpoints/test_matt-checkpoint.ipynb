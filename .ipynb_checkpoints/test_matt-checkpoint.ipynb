{
 "cells": [
  {
   "cell_type": "code",
   "execution_count": 4,
   "metadata": {},
   "outputs": [],
   "source": [
    "import matplotlib.pyplot as plt\n",
    "import matplotlib.image as mpimg\n",
    "import numpy as np\n",
    "import cv2\n",
    "import math"
   ]
  },
  {
   "cell_type": "code",
   "execution_count": 5,
   "metadata": {},
   "outputs": [],
   "source": [
    "def region_of_interest(img, vertices):\n",
    "    # Define a blank matrix that matches the image height/width.\n",
    "    mask = np.zeros_like(img)\n",
    "    \n",
    "    #check if image is grayscale or color\n",
    "    shape = img.shape\n",
    "    if(len(shape) > 2):               #its a color image\n",
    "        mask_color = (255,)*shape[-1]   #shape[-1] = no. at last index\n",
    "    else:                              #otherwise its a gray image\n",
    "        mask_color = 255\n",
    "      \n",
    "    # Fill the polygon with white\n",
    "    cv2.fillPoly(mask, vertices, mask_color)\n",
    "    \n",
    "    # Returning the image only where mask pixels match\n",
    "    masked_image = cv2.bitwise_and(img, mask)\n",
    "    return masked_image"
   ]
  },
  {
   "cell_type": "code",
   "execution_count": 6,
   "metadata": {},
   "outputs": [],
   "source": [
    "def draw_lines(img, lines, color=[255, 255, 0], thickness=2):\n",
    "    # If there are no lines to draw, exit.\n",
    "    if lines is None:\n",
    "        return\n",
    "\n",
    "    # Create a blank image that matches the original in size.\n",
    "    line_img = np.zeros_like(img)\n",
    "    \n",
    "        # Loop over all lines and draw them on the blank image.\n",
    "    for line in lines:\n",
    "        for x1, y1, x2, y2 in line:\n",
    "            y2 = int(y2)\n",
    "            cv2.line(line_img, (x1, y1), (x2, y2), color, thickness)\n",
    "\n",
    "    # Merge the image with the lines onto the original.\n",
    "    img = cv2.addWeighted(img, 0.8, line_img, 1.0, 0.0)\n",
    "\n",
    "    # Return the modified image.\n",
    "    return img"
   ]
  },
  {
   "cell_type": "code",
   "execution_count": 25,
   "metadata": {},
   "outputs": [],
   "source": [
    "def hough_lines(img, rho, theta, threshold, min_line_len, max_line_gap):\n",
    "    \"\"\"\n",
    "    `img` should be the output of a Canny transform.\n",
    "        \n",
    "    Returns an image with hough lines drawn.\n",
    "    \"\"\"\n",
    "    lines = cv2.HoughLinesP(img, rho, theta, threshold, np.array([]), minLineLength=min_line_len, maxLineGap=max_line_gap)\n",
    "    \n",
    "    left_line_x = []\n",
    "    left_line_y = []\n",
    "    right_line_x = []\n",
    "    right_line_y = []\n",
    "\n",
    "    for line in lines:\n",
    "        for x1, y1, x2, y2 in line:\n",
    "            slope = (y2 - y1) / (x2 - x1) # <-- Calculating the slope.\n",
    "            if math.fabs(slope) < 0.2: # <-- Only consider extreme slope\n",
    "                continue\n",
    "            if slope <= 0: # <-- If the slope is negative, left group.\n",
    "                left_line_x.extend([x1, x2])\n",
    "                left_line_y.extend([y1, y2])\n",
    "            else: # <-- Otherwise, right group.\n",
    "                right_line_x.extend([x1, x2])\n",
    "                right_line_y.extend([y1, y2])\n",
    "\n",
    "    min_y = img.shape[0] * (3 / 5) # <-- Just below the horizon\n",
    "    max_y = img.shape[0] # <-- The bottom of the image\n",
    "\n",
    "    poly_left = np.poly1d(np.polyfit(\n",
    "        left_line_y,\n",
    "        left_line_x,\n",
    "        deg=1\n",
    "    ))\n",
    "\n",
    "    left_x_start = int(poly_left(max_y))\n",
    "    left_x_end = int(poly_left(min_y))\n",
    "\n",
    "    poly_right = np.poly1d(np.polyfit(\n",
    "        right_line_y,\n",
    "        right_line_x,\n",
    "        deg=1\n",
    "    ))\n",
    "\n",
    "    right_x_start = int(poly_right(max_y))\n",
    "    right_x_end = int(poly_right(min_y))\n",
    "    \n",
    "    lines = [[\n",
    "            [left_x_start, max_y, left_x_end, min_y],\n",
    "            [right_x_start, max_y, right_x_end, min_y],\n",
    "            ]]\n",
    "    \n",
    "    return lines"
   ]
  },
  {
   "cell_type": "code",
   "execution_count": 38,
   "metadata": {},
   "outputs": [],
   "source": [
    "def pipeline(image):\n",
    "    \"\"\"\n",
    "    An image processing pipeline which will output\n",
    "    an image with the lane lines annotated.\n",
    "    \"\"\"\n",
    "    original = image\n",
    "    height, width , ch = image.shape\n",
    "\n",
    "   #corners\n",
    "    region_of_interest_points = [\n",
    "        (0, height),\n",
    "        (0, height*(3/5)),\n",
    "        (width, height*(3/5)),\n",
    "        (width, height),\n",
    "    ]\n",
    "\n",
    "    # Convert to grayscale here.\n",
    "    gray_image = cv2.cvtColor(image, cv2.COLOR_RGB2GRAY)\n",
    "\n",
    "    # Call Canny Edge Detection here.\n",
    "    img = cv2.Canny(gray_image, 150, 250)\n",
    "    img =  cv2.GaussianBlur(img, (15,15), 0)\n",
    "    \n",
    "    img = region_of_interest(img, np.array([region_of_interest_points], np.int32) )\n",
    "    cv2.imshow('blur', img)\n",
    "    lines = hough_lines(img, 6,np.pi / 60, 160, 20, 25)\n",
    "    img = draw_lines(original, lines ,thickness=5)\n",
    "    return img"
   ]
  },
  {
   "cell_type": "markdown",
   "metadata": {},
   "source": [
    "# View final Output"
   ]
  },
  {
   "cell_type": "code",
   "execution_count": 39,
   "metadata": {},
   "outputs": [
    {
     "name": "stderr",
     "output_type": "stream",
     "text": [
      "/usr/local/lib/python3.5/dist-packages/ipykernel_launcher.py:17: RuntimeWarning: divide by zero encountered in int_scalars\n"
     ]
    }
   ],
   "source": [
    "cap = cv2.VideoCapture('../dataset/day-lane.mp4')\n",
    "while(cap.isOpened()):\n",
    "    # Take each frame\n",
    "    ret, frame = cap.read()\n",
    "    imageWithLine = pipeline(frame)\n",
    "    #display image with line over it\n",
    "    cv2.namedWindow('final', cv2.WINDOW_NORMAL)\n",
    "    cv2.imshow('final', imageWithLine)\n",
    "    \n",
    "    k = cv2.waitKey(25) & 0xFF\n",
    "    if k == ord('q'):   #stop video\n",
    "        break\n",
    "    elif k == ord('s'):  #save frame\n",
    "        file = '../dataset/dl'+str(i)+'.png'\n",
    "        cv2.imwrite(file, frame)\n",
    "        i += 1\n",
    "\n",
    "cap.release()\n",
    "cv2.destroyAllWindows()"
   ]
  },
  {
   "cell_type": "markdown",
   "metadata": {},
   "source": [
    "# Output video will be written in file and will not be shown"
   ]
  },
  {
   "cell_type": "code",
   "execution_count": null,
   "metadata": {},
   "outputs": [],
   "source": [
    "from moviepy.editor import VideoFileClip\n",
    "from IPython.display import HTML\n",
    "\n",
    "white_output = '../dataset/day-lane_output.mp4'\n",
    "clip1 = VideoFileClip(\"../dataset/day-lane.mp4\")\n",
    "white_clip = clip1.fl_image(pipeline)\n",
    "white_clip.write_videofile(white_output, audio=False)"
   ]
  },
  {
   "cell_type": "code",
   "execution_count": null,
   "metadata": {},
   "outputs": [],
   "source": []
  }
 ],
 "metadata": {
  "celltoolbar": "Raw Cell Format",
  "kernelspec": {
   "display_name": "Python 3",
   "language": "python",
   "name": "python3"
  },
  "language_info": {
   "codemirror_mode": {
    "name": "ipython",
    "version": 3
   },
   "file_extension": ".py",
   "mimetype": "text/x-python",
   "name": "python",
   "nbconvert_exporter": "python",
   "pygments_lexer": "ipython3",
   "version": "3.5.2"
  }
 },
 "nbformat": 4,
 "nbformat_minor": 2
}
