{
 "cells": [
  {
   "cell_type": "code",
   "execution_count": 2,
   "metadata": {},
   "outputs": [],
   "source": [
    "import cv2\n",
    "import numpy as np"
   ]
  },
  {
   "cell_type": "code",
   "execution_count": 3,
   "metadata": {},
   "outputs": [],
   "source": [
    "def region_of_interest(img, vertices):\n",
    "    # Define a blank matrix that matches the image height/width.\n",
    "    mask = np.zeros_like(img)\n",
    "    \n",
    "    #check if image is grayscale or color\n",
    "    shape = img.shape\n",
    "    if(len(shape) == 3):               #its a color image\n",
    "        mask_color = (255,)*shape[-1]   #shape[-1] = no. at last index\n",
    "    else:                              #otherwise its a gray image\n",
    "        mask_color = 255\n",
    "      \n",
    "    # Fill the polygon with white\n",
    "    cv2.fillPoly(mask, vertices, mask_color)\n",
    "    \n",
    "    # Returning the image only where mask pixels match\n",
    "    masked_image = cv2.bitwise_and(img, mask)\n",
    "    return masked_image"
   ]
  },
  {
   "cell_type": "code",
   "execution_count": 4,
   "metadata": {},
   "outputs": [],
   "source": [
    "#Applying canny edge and thresholding using median of pixels\n",
    "def autoCanny(img, sigma=0.33):\n",
    "    '''\n",
    "    img: A BGR image\n",
    "    sigma: deviation from median color intensity\n",
    "    '''\n",
    "    #this produces gray image with better contrasting lane marks\n",
    "    img = img[:,:,2] + img[:,:,1] - img[:,:,0]\n",
    "    img = cv2.threshold(img, 0, 255, cv2.THRESH_TRUNC + cv2.THRESH_OTSU)\n",
    "    cv2.imshow('gray', img)\n",
    "    wt = True\n",
    "    if wt:\n",
    "        cv2.imwrite('gray1.jpg',img)\n",
    "        wt = False\n",
    "    #get median of gray scale image\n",
    "    med = np.median(img)\n",
    "    \n",
    "    #compute lower and upper threshold\n",
    "    lower = int(max(0, (1-sigma)*med))\n",
    "    upper = int(min(255, (1+sigma)*med))\n",
    "    edgedImg = cv2.Canny(img, 160, 255)\n",
    "    \n",
    "    #return image with prominent edges\n",
    "    return edgedImg"
   ]
  },
  {
   "cell_type": "code",
   "execution_count": 5,
   "metadata": {},
   "outputs": [],
   "source": [
    "cap = cv2.VideoCapture('../dataset/day-lane.mp4')\n",
    "\n",
    "#get height and width of frame\n",
    "ret, frame = cap.read()\n",
    "height, width, channel = frame.shape\n",
    "\n",
    "#keeping the portion of image which contains lane\n",
    "topLeftPt = (width*(3.0/8), height*(3/5))\n",
    "topRightPt = (width*(5.0/8), height*(3/5))\n",
    "\n",
    "#polygon has 6 vertices\n",
    "region_of_interest_points = [\n",
    "(0, height),\n",
    "(0, height*(3.4/5)),\n",
    "topLeftPt,\n",
    "topRightPt,\n",
    "(width, height*(3.4/5)),\n",
    "(width, height),\n",
    "]\n",
    "\n",
    "while True:\n",
    "\n",
    "    # Take each frame\n",
    "    ret, frame = cap.read()\n",
    "    \n",
    "    #crop image\n",
    "    cropped = region_of_interest(frame, np.array([region_of_interest_points], np.int32))\n",
    "    cv2.imshow('Region of Interest', cropped)\n",
    "    \n",
    "    #perform canny edge on gray scale image\n",
    "    #cannyImg = autoCanny(cropped, 0.33)\n",
    "    #cv2.imshow('cannyImg', cannyImg)\n",
    "    \n",
    "    k = cv2.waitKey(25) & 0xFF\n",
    "    if k == ord('q'):\n",
    "        break\n",
    "\n",
    "cap.release()\n",
    "cv2.destroyAllWindows()"
   ]
  },
  {
   "cell_type": "code",
   "execution_count": null,
   "metadata": {},
   "outputs": [],
   "source": []
  }
 ],
 "metadata": {
  "kernelspec": {
   "display_name": "Python 3",
   "language": "python",
   "name": "python3"
  },
  "language_info": {
   "codemirror_mode": {
    "name": "ipython",
    "version": 3
   },
   "file_extension": ".py",
   "mimetype": "text/x-python",
   "name": "python",
   "nbconvert_exporter": "python",
   "pygments_lexer": "ipython3",
   "version": "3.5.2"
  }
 },
 "nbformat": 4,
 "nbformat_minor": 2
}
