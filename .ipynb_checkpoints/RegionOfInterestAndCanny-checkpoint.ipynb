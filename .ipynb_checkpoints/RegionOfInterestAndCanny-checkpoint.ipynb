{
 "cells": [
  {
   "cell_type": "code",
   "execution_count": 10,
   "metadata": {},
   "outputs": [],
   "source": [
    "import cv2\n",
    "import numpy as np"
   ]
  },
  {
   "cell_type": "code",
   "execution_count": 11,
   "metadata": {},
   "outputs": [],
   "source": [
    "#our region of interest is trapezium\n",
    "#it takes a image which has SINGLE value at (x,y) location. for ex grayscale image\n",
    "def region_of_interest(img, vertices):\n",
    "    # Define a blank matrix that matches the image height/width.\n",
    "    mask = np.zeros_like(img)\n",
    "    \n",
    "    # Retrieve the number of color channels of the image.\n",
    "    #channel_count = img.shape[2]\n",
    "    \n",
    "    #check if image is grayscale or color\n",
    "    shape = img.shape\n",
    "    \n",
    "    # color used to fill polygon\n",
    "    if(len(shape) == 3):               #its a color image\n",
    "        mask_color = (255,)*shape[-1]\n",
    "    else:                              #its a gray image or single channel\n",
    "        mask_color = 255\n",
    "      \n",
    "    # Fill the polygon with white\n",
    "    cv2.fillPoly(mask, vertices, mask_color)\n",
    "    \n",
    "    # Returning the image only where mask pixels match\n",
    "    masked_image = cv2.bitwise_and(img, mask)\n",
    "    return masked_image"
   ]
  },
  {
   "cell_type": "code",
   "execution_count": 12,
   "metadata": {},
   "outputs": [],
   "source": [
    "#Applying canny edge and thresholding using median of pixels\n",
    "def autoCanny(image, sigma=0.33):\n",
    "    shape = image.shape\n",
    "    if(len(shape) == 3):\n",
    "        image = cv2.cvtColor(image, cv2.COLOR_BGR2GRAY) #convert image to gray to find median\n",
    "    \n",
    "    \n",
    "    #get median of gray scale image\n",
    "    med = np.median(image)\n",
    "    \n",
    "    #compute lower and upper threshold\n",
    "    lower = int(max(0, (1-sigma)*med))\n",
    "    upper = int(min(255, (1+sigma)*med))\n",
    "    edgedImg = cv2.Canny(image, lower, upper)\n",
    "    \n",
    "    #return image with prominent edges\n",
    "    return edgedImg"
   ]
  },
  {
   "cell_type": "code",
   "execution_count": 14,
   "metadata": {},
   "outputs": [],
   "source": [
    "cap = cv2.VideoCapture('../dataset/day-lane.mp4')\n",
    "\n",
    "#get height and width of frame\n",
    "ret, frame = cap.read()\n",
    "height, width, channel = frame.shape\n",
    "\n",
    "#keeping the portion of image which contains lane\n",
    "topLeftPt = (width*(3.0/8), height*(3/5))\n",
    "topRightPt = (width*(5.0/8), height*(3/5))\n",
    "\n",
    "#polygon has 6 vertices\n",
    "region_of_interest_points = [\n",
    "(0, height),\n",
    "(0, height*(3.4/5)),\n",
    "topLeftPt,\n",
    "topRightPt,\n",
    "(width, height*(3.4/5)),\n",
    "(width, height),\n",
    "]\n",
    "\n",
    "while True:\n",
    "\n",
    "    # Take each frame\n",
    "    ret, frame = cap.read()\n",
    "    \n",
    "    #convert it to gray scale\n",
    "    grayImg = cv2.cvtColor(frame, cv2.COLOR_BGR2GRAY)\n",
    "    cv2.imshow('grayImg', grayImg)\n",
    "    \n",
    "    #perform canny edge on gray scale image\n",
    "    cannyImg = autoCanny(grayImg, 0.33)\n",
    "    #cv2.imshow('cannyImg', cannyImg)\n",
    "    \n",
    "    #crop image\n",
    "    croppedImg = region_of_interest(cannyImg, np.array([region_of_interest_points], np.int32))\n",
    "    cv2.imshow('Region of Interest',croppedImg)\n",
    "    \n",
    "    k = cv2.waitKey(25) & 0xFF\n",
    "    if k == ord('q'):\n",
    "        break\n",
    "\n",
    "cap.release()\n",
    "cv2.destroyAllWindows()"
   ]
  },
  {
   "cell_type": "code",
   "execution_count": 5,
   "metadata": {},
   "outputs": [
    {
     "data": {
      "text/plain": [
       "44.4"
      ]
     },
     "execution_count": 5,
     "metadata": {},
     "output_type": "execute_result"
    }
   ],
   "source": [
    "x=(1,2,3,44.4)\n",
    "x[3]"
   ]
  },
  {
   "cell_type": "code",
   "execution_count": null,
   "metadata": {},
   "outputs": [],
   "source": []
  }
 ],
 "metadata": {
  "kernelspec": {
   "display_name": "Python 3",
   "language": "python",
   "name": "python3"
  },
  "language_info": {
   "codemirror_mode": {
    "name": "ipython",
    "version": 3
   },
   "file_extension": ".py",
   "mimetype": "text/x-python",
   "name": "python",
   "nbconvert_exporter": "python",
   "pygments_lexer": "ipython3",
   "version": "3.5.2"
  }
 },
 "nbformat": 4,
 "nbformat_minor": 2
}
