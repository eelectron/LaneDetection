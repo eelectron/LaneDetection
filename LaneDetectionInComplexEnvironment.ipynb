{
 "cells": [
  {
   "cell_type": "code",
   "execution_count": 1,
   "metadata": {},
   "outputs": [],
   "source": [
    "import cv2\n",
    "import numpy as np\n",
    "from matplotlib import pyplot as plt\n",
    "# Import everything needed to edit/save/watch video clips\n",
    "from moviepy.editor import VideoFileClip\n",
    "from IPython.display import HTML"
   ]
  },
  {
   "cell_type": "code",
   "execution_count": null,
   "metadata": {},
   "outputs": [],
   "source": [
    "def region_of_interest(img, vertices):\n",
    "    # Define a blank matrix that matches the image height/width.\n",
    "    mask = np.zeros_like(img)\n",
    "    \n",
    "    #check if image is grayscale or color\n",
    "    shape = img.shape\n",
    "    if(len(shape) == 3):               #its a color image\n",
    "        mask_color = (255,)*shape[-1]   #shape[-1] = no. at last index\n",
    "    else:                              #otherwise its a gray image\n",
    "        mask_color = 255\n",
    "      \n",
    "    # Fill the polygon with white\n",
    "    cv2.fillPoly(mask, vertices, mask_color)\n",
    "    \n",
    "    # Returning the image only where mask pixels match\n",
    "    masked_image = cv2.bitwise_and(img, mask)\n",
    "    return masked_image"
   ]
  },
  {
   "cell_type": "code",
   "execution_count": null,
   "metadata": {},
   "outputs": [],
   "source": [
    "def draw_lines(img, lines, color=[255, 255, 255], thickness=3):\n",
    "    '''\n",
    "    Draw lines over lane mark.\n",
    "    '''\n",
    "    # If there are no lines to draw, exit.\n",
    "    if lines is None:\n",
    "        return\n",
    "    \n",
    "    # Create a blank image that matches the original in size.\n",
    "    line_img = np.zeros_like(img)\n",
    "    \n",
    "    # Loop over all lines and draw them on the blank image.\n",
    "    for line in lines:\n",
    "        line = np.array(line)\n",
    "        line = line.astype(int)\n",
    "        for x1, y1, x2, y2 in line:\n",
    "            cv2.line(line_img, (x1, y1), (x2, y2), color, thickness)\n",
    "    \n",
    "    # Merge the image with the lines onto the original.\n",
    "    img = cv2.addWeighted(img, 0.8, line_img, 1.0, 0.0)\n",
    "    \n",
    "    # Return the modified image.\n",
    "    return img"
   ]
  }
 ],
 "metadata": {
  "kernelspec": {
   "display_name": "Python 3",
   "language": "python",
   "name": "python3"
  },
  "language_info": {
   "codemirror_mode": {
    "name": "ipython",
    "version": 3
   },
   "file_extension": ".py",
   "mimetype": "text/x-python",
   "name": "python",
   "nbconvert_exporter": "python",
   "pygments_lexer": "ipython3",
   "version": "3.5.2"
  }
 },
 "nbformat": 4,
 "nbformat_minor": 2
}
