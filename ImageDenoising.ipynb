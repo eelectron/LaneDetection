{
 "cells": [
  {
   "cell_type": "markdown",
   "metadata": {},
   "source": [
    "# Image Denoising in OpenCV\n",
    "\n",
    "OpenCV provides four variations of this technique.\n",
    "\n",
    "    cv2.fastNlMeansDenoising() - works with a single grayscale images\n",
    "    cv2.fastNlMeansDenoisingColored() - works with a color image.\n",
    "    cv2.fastNlMeansDenoisingMulti() - works with image sequence captured in short period of time (grayscale images)\n",
    "    cv2.fastNlMeansDenoisingColoredMulti() - same as above, but for color images.\n"
   ]
  },
  {
   "cell_type": "code",
   "execution_count": 2,
   "metadata": {},
   "outputs": [],
   "source": [
    "import cv2\n",
    "from matplotlib import pyplot as plt\n",
    "from IPython.display import HTML, display"
   ]
  },
  {
   "cell_type": "code",
   "execution_count": 3,
   "metadata": {},
   "outputs": [],
   "source": [
    "img = cv2.imread('dataset/ld15.jpg')\n",
    "dst = cv2.fastNlMeansDenoisingColored(img,None,10,10,7,21)\n",
    "\n",
    "cv2.imshow('ori', img)\n",
    "cv2.imshow('denoise', dst)\n",
    "cv2.waitKey(0)\n",
    "cv2.imwrite('dataset/denoise15.jpg', dst)\n",
    "cv2.destroyAllWindows()"
   ]
  },
  {
   "cell_type": "code",
   "execution_count": 4,
   "metadata": {},
   "outputs": [
    {
     "data": {
      "text/html": [
       "<table><tr><td><img src='dataset/ld15.jpg'></td><td><img src='dataset/denoise15.jpg'></td></tr></table>"
      ],
      "text/plain": [
       "<IPython.core.display.HTML object>"
      ]
     },
     "metadata": {},
     "output_type": "display_data"
    }
   ],
   "source": [
    "display(HTML(\"<table><tr><td><img src='dataset/ld15.jpg'></td><td><img src='dataset/denoise15.jpg'></td></tr></table>\"))"
   ]
  },
  {
   "cell_type": "code",
   "execution_count": 5,
   "metadata": {},
   "outputs": [],
   "source": [
    "#Observation: not good. lanes are also getting blurred along with shadow.\n",
    "#try on gray scale"
   ]
  },
  {
   "cell_type": "code",
   "execution_count": 15,
   "metadata": {},
   "outputs": [],
   "source": [
    "img = cv2.imread('dataset/ld15.jpg')\n",
    "#gray scale\n",
    "gray = img[:,:,2] + img[:,:,1] - img[:,:,0]\n",
    "denoise = cv2.fastNlMeansDenoising(gray,None,10,7,21)\n",
    "\n",
    "cv2.imshow('gray', gray)\n",
    "cv2.imshow('denoise', denoise)\n",
    "cv2.waitKey(0)\n",
    "cv2.imwrite('./dataset/gray15.jpg', gray)\n",
    "cv2.imwrite('dataset/denoiseGray15.jpg', denoise)\n",
    "cv2.destroyAllWindows()"
   ]
  },
  {
   "cell_type": "code",
   "execution_count": 17,
   "metadata": {},
   "outputs": [
    {
     "data": {
      "text/html": [
       "<table><tr><td><img src='./dataset/gray15.jpg'></td><td><img src='./dataset/denoiseGray15.jpg'></td></tr></table>"
      ],
      "text/plain": [
       "<IPython.core.display.HTML object>"
      ]
     },
     "metadata": {},
     "output_type": "display_data"
    }
   ],
   "source": [
    "display(HTML(\"<table><tr><td><img src='./dataset/gray15.jpg'></td><td><img src='./dataset/denoiseGray15.jpg'></td></tr></table>\"))"
   ]
  },
  {
   "cell_type": "code",
   "execution_count": null,
   "metadata": {},
   "outputs": [],
   "source": []
  }
 ],
 "metadata": {
  "kernelspec": {
   "display_name": "Python 3",
   "language": "python",
   "name": "python3"
  },
  "language_info": {
   "codemirror_mode": {
    "name": "ipython",
    "version": 3
   },
   "file_extension": ".py",
   "mimetype": "text/x-python",
   "name": "python",
   "nbconvert_exporter": "python",
   "pygments_lexer": "ipython3",
   "version": "3.5.2"
  }
 },
 "nbformat": 4,
 "nbformat_minor": 2
}
