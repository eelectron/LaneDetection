{
 "cells": [
  {
   "cell_type": "markdown",
   "metadata": {},
   "source": [
    "# Understanding HSV color space\n",
    "\n",
    "print(img.shape)\n",
    "(400. 500, 3) \n",
    " 400 = no. of rows\n",
    " 500 = no. of cols\n",
    " 3 = no. of channels"
   ]
  },
  {
   "cell_type": "markdown",
   "metadata": {},
   "source": [
    "# Maximum HSV value in opencv\n",
    "h - 255\n",
    "s - 255\n",
    "v - 255"
   ]
  },
  {
   "cell_type": "markdown",
   "metadata": {},
   "source": [
    "# Idea\n",
    "-Increase saturation\n",
    "-then then apply threshold\n",
    "-if value <= 40 then"
   ]
  },
  {
   "cell_type": "code",
   "execution_count": 1,
   "metadata": {},
   "outputs": [],
   "source": [
    "import cv2\n",
    "import numpy as np\n",
    "from matplotlib import pyplot as plt\n",
    "import matplotlib.image as mpimg"
   ]
  },
  {
   "cell_type": "code",
   "execution_count": 5,
   "metadata": {},
   "outputs": [],
   "source": [
    "def showImage(name, img):\n",
    "    cv2.imshow(name, img)\n",
    "    cv2.waitKey(0)\n",
    "    cv2.destroyAllWindows()"
   ]
  },
  {
   "cell_type": "code",
   "execution_count": null,
   "metadata": {},
   "outputs": [],
   "source": [
    "bgrImg = cv2.imread('./dataset/ld1.jpg')\n",
    "print(bgrImg.shape)\n",
    "b,g,r = cv2.split(bgrImg)\n",
    "rgbImg = cv2.merge([r,g,b])\n",
    "\n",
    "#original image\n",
    "plt.imshow(rgbImg)"
   ]
  },
  {
   "cell_type": "code",
   "execution_count": null,
   "metadata": {},
   "outputs": [],
   "source": [
    "lt = rgbImg[340:370, 240:280]  #left top crop\n",
    "lb = rgbImg[430:460, 70:110]  #left bottom crop\n",
    "\n",
    "mt = rgbImg[340:370, 320:360]  #middle top crop\n",
    "mb = rgbImg[400:430, 370:410]  #middle bottom crop\n",
    "\n",
    "rt = rgbImg[340:370, 400:440]  #right top crop\n",
    "rb = rgbImg[400:430, 590:630]  #right bottom crop\n",
    "\n",
    "\n",
    "\n",
    "#plot it\n",
    "plt.subplot(231), plt.imshow(lt)\n",
    "plt.subplot(234), plt.imshow(lb)\n",
    "\n",
    "plt.subplot(232), plt.imshow(mt)\n",
    "plt.subplot(235), plt.imshow(mb)\n",
    "\n",
    "plt.subplot(233), plt.imshow(rt)\n",
    "plt.subplot(236), plt.imshow(rb)"
   ]
  },
  {
   "cell_type": "code",
   "execution_count": null,
   "metadata": {},
   "outputs": [],
   "source": [
    "#convert to hsv\n",
    "bgrImg = cv2.imread('./dataset/ld1.jpg')\n",
    "b,g,r\n",
    "hsv = cv2.cvtColor(bgrImg, cv2.COLOR_BGR2HSV)\n",
    "\n",
    "#increase saturation\n",
    "hsv[:,:,1] = 200  \n",
    "\n",
    "#cvt to bgr\n",
    "bgrImg = cv2.cvtColor(hsv, cv2.COLOR_HSV2BGR)\n",
    "\n",
    "\n",
    "#cvt to gray and threshold\n",
    "gray = cv2.cvtColor(bgrImg, cv2.COLOR_BGR2GRAY)\n",
    "plt.subplot(231), plt.imshow(gray, cmap='gray')\n",
    "\n",
    "_, threshGray = cv2.threshold(gray, 90, 255, cv2.THRESH_BINARY)\n",
    "plt.subplot(232), plt.imshow(threshGray, cmap='gray')\n",
    "\n",
    "#convert back to rgb\n",
    "rgbImg = cv2.cvtColor(hsv, cv2.COLOR_HSV2RGB)\n",
    "plt.subplot(233), plt.imshow(rgbImg)\n",
    "\n",
    "#adaptive\n",
    "adp = cv2.adaptiveThreshold(gray,255,cv2.ADAPTIVE_THRESH_MEAN_C, cv2.THRESH_BINARY,11,2)\n",
    "plt.subplot(234), plt.imshow(adp)\n",
    "\n",
    "adpGau = cv2.adaptiveThreshold(gray,255,cv2.ADAPTIVE_THRESH_GAUSSIAN_C, cv2.THRESH_BINARY,11,2)\n",
    "plt.subplot(234), plt.imshow(adpGau)\n",
    "\n",
    "# Otsu's thresholding after Gaussian filtering\n",
    "blur = cv2.GaussianBlur(gray,(5,5),0)\n",
    "ret3,th3 = cv2.threshold(blur,0,255,cv2.THRESH_BINARY+cv2.THRESH_OTSU)\n",
    "plt.subplot(235), plt.imshow(th3)\n",
    "\n",
    "#apply canny on gray\n",
    "canny = cv2.Canny(gray, 170, 255)\n",
    "plt.subplot(236), plt.imshow(canny)\n",
    "\n",
    "#hold screen\n",
    "cv2.waitKey(0)\n",
    "cv2.destroyAllWindows()"
   ]
  },
  {
   "cell_type": "code",
   "execution_count": null,
   "metadata": {},
   "outputs": [],
   "source": [
    "lt = hsv[340:370, 240:280]  #left top crop\n",
    "lb = hsv[430:460, 70:110]  #left bottom crop\n",
    "\n",
    "mt = hsv[340:370, 320:360]  #middle top crop\n",
    "mb = hsv[400:430, 370:410]  #middle bottom crop\n",
    "\n",
    "rt = hsv[340:370, 400:440]  #right top crop\n",
    "rb = hsv[400:430, 590:630]  #right bottom crop\n",
    "\n",
    "#print hsv value\n",
    "rows, cols, ch = mt.shape\n",
    "v = []\n",
    "for i in range(rows):\n",
    "    for j in range(cols):\n",
    "        print(mt[i,j],end='')\n",
    "\n",
    "#cvt to rgb\n",
    "#rgb = cv2.cvtColor(hsv, cv2.COLOR_HSV2RGB)\n",
    "#plt.imshow(rgb)"
   ]
  },
  {
   "cell_type": "code",
   "execution_count": null,
   "metadata": {},
   "outputs": [],
   "source": [
    "\n",
    "#mask for hsv\n",
    "lw = np.array([0,0, 80], np.uint8)\n",
    "up = np.array([255,255, 255], np.uint8)\n",
    "mask = cv2.inRange(hsv, lw, up)\n",
    "res = cv2.bitwise_and(hsv, hsv, mask)\n",
    "rgb = cv2.cvtColor(res, cv2.COLOR_HSV2RGB)\n",
    "gray = cv2.cvtColor(rgb, cv2.COLOR_RGB2GRAY)\n",
    "plt.imshow(rgb)\n",
    "\n",
    "#thresholding\n",
    "#print hsv value\n",
    "rows, cols, ch = hsv.shape\n",
    "v = []\n",
    "for i in range(rows):\n",
    "    for j in range(cols):\n",
    "        v.append(mt[i,j,2])"
   ]
  },
  {
   "cell_type": "code",
   "execution_count": null,
   "metadata": {},
   "outputs": [],
   "source": [
    "m = filter_color(hsv)\n",
    "cv2.imshow('hsv',m)\n",
    "cv2.waitKey(0)"
   ]
  },
  {
   "cell_type": "code",
   "execution_count": null,
   "metadata": {},
   "outputs": [],
   "source": [
    "def hsvFilter(img, thresh=100):\n",
    "    '''\n",
    "    img: BGR image\n",
    "    '''\n",
    "    hsv = cv2.cvtColor(img, cv2.COLOR_BGR2HSV)\n",
    "    v = hsv[:,:,2]\n",
    "    showImage(v, 'gray')\n",
    "    binImg = np.zeros_like(v)\n",
    "    binImg[v >= thresh] = 255\n",
    "    binImg[v < thresh] = 0 \n",
    "    return binImg"
   ]
  },
  {
   "cell_type": "code",
   "execution_count": null,
   "metadata": {},
   "outputs": [],
   "source": [
    "bgr = cv2.imread('./dataset/ld1.jpg')\n",
    "showImage(bgr, 'ori')\n",
    "thresh = 110\n",
    "binImg = hsvFilter(bgr, thresh)\n",
    "showImage(binImg, 'bin')\n",
    "\n",
    "rgb = cv2.cvtColor(bgr, cv2.COLOR_BGR2RGB)\n",
    "plt.subplot(231), plt.imshow(rgb)\n",
    "plt.subplot(232), plt.imshow(binImg)"
   ]
  },
  {
   "cell_type": "code",
   "execution_count": 3,
   "metadata": {},
   "outputs": [],
   "source": [
    "def region_of_interest(img, vertices):\n",
    "    # Define a blank matrix that matches the image height/width.\n",
    "    mask = np.zeros_like(img)\n",
    "    \n",
    "    #check if image is grayscale or color\n",
    "    shape = img.shape\n",
    "    if(len(shape) == 3):               #its a color image\n",
    "        mask_color = (255,)*shape[-1]   #shape[-1] = no. at last index\n",
    "    else:                              #otherwise its a gray image\n",
    "        mask_color = 255\n",
    "      \n",
    "    # Fill the polygon with white\n",
    "    cv2.fillPoly(mask, vertices, mask_color)\n",
    "    \n",
    "    # Returning the image only where mask pixels match\n",
    "    masked_image = cv2.bitwise_and(img, mask)\n",
    "    return masked_image"
   ]
  },
  {
   "cell_type": "markdown",
   "metadata": {},
   "source": [
    "# apply sobel"
   ]
  },
  {
   "cell_type": "code",
   "execution_count": 25,
   "metadata": {},
   "outputs": [],
   "source": [
    "def applySobel(img, orient = 'x', kernel=3, th=100, blackWhite=(0, 255)):\n",
    "    #cvt to gray\n",
    "    if len(img.shape) > 2:\n",
    "        img = cv2.cvtColor(img, cv2.COLOR_BGR2GRAY)\n",
    "    \n",
    "    #extract vertical or horizontal line\n",
    "    if orient == 'x':\n",
    "        absSobel = np.absolute(cv2.Sobel(img, cv2.CV_64F, 1, 0))\n",
    "    else:\n",
    "        absSobel = np.absolute(cv2.Sobel(img, cv2.CV_64F, 0, 1))\n",
    "        \n",
    "    #rescale to 8 bit\n",
    "    scaled = np.uint8(255*absSobel/np.max(absSobel))\n",
    "    \n",
    "    #create a blank image and apply thresh\n",
    "    op = np.zeros_like(scaled)\n",
    "    op[scaled > th] = blackWhite[1] #white\n",
    "    op[scaled < th] = blackWhite[0] #black\n",
    "    \n",
    "    return op"
   ]
  },
  {
   "cell_type": "markdown",
   "metadata": {},
   "source": [
    "# Plot histogram"
   ]
  },
  {
   "cell_type": "code",
   "execution_count": 15,
   "metadata": {},
   "outputs": [
    {
     "data": {
      "image/png": "[encoded data removed]",
      "text/plain": [
       "<matplotlib.figure.Figure at 0x7f57c1752eb8>"
      ]
     },
     "metadata": {},
     "output_type": "display_data"
    },
    {
     "data": {
      "image/png": "[encoded data removed]",
      "text/plain": [
       "<matplotlib.figure.Figure at 0x7f57e007c240>"
      ]
     },
     "metadata": {},
     "output_type": "display_data"
    }
   ],
   "source": [
    "gray = cv2.imread('./dataset/ld1.jpg', 0)\n",
    "plt.hist(gray.flatten(), 256, [0, 256])\n",
    "plt.xlim([0, 256])\n",
    "plt.show()\n",
    "\n",
    "#equalize using hist\n",
    "hist = cv2.equalizeHist(gray)\n",
    "plt.hist(hist.flatten(), 256, [0, 256])\n",
    "plt.xlim([0, 256])\n",
    "plt.show()"
   ]
  },
  {
   "cell_type": "markdown",
   "metadata": {},
   "source": [
    "# Histogram"
   ]
  },
  {
   "cell_type": "code",
   "execution_count": null,
   "metadata": {},
   "outputs": [],
   "source": [
    "height, width = gray.shape\n",
    "cv2.imshow('gray', gray)\n",
    "\n",
    "#keeping the portion of image which contains lane\n",
    "topLeftPt = (width*0.30, height*0.60)\n",
    "topRightPt = (width*0.70, height*0.60)\n",
    "\n",
    "#this portion contain road\n",
    "region_of_interest_points = [\n",
    "(0, height*0.90),\n",
    "#(0, height*0.60),\n",
    "topLeftPt,\n",
    "topRightPt,\n",
    "#(width, height*0.60),\n",
    "(width, height*0.90),\n",
    "]\n",
    "\n",
    "print(region_of_interest_points)\n",
    "roi = region_of_interest(gray, np.array([region_of_interest_points], np.int32))\n",
    "cv2.imwrite('./dataset/roi.jpg', roi)\n",
    "cv2.imshow('roi', roi)\n",
    "\n",
    "#equalize using hist\n",
    "hist = cv2.equalizeHist(roi)\n",
    "cv2.imwrite('./dataset/histRoi2.jpg', roi)\n",
    "cv2.imshow('equ',hist)\n",
    "\n",
    "#plt\n",
    "plt.subplot(121), plt.imshow(gray, cmap='gray')\n",
    "plt.subplot(122), plt.imshow(hist, cmap='gray')\n",
    "\n",
    "cv2.waitKey(0)\n",
    "cv2.destroyAllWindows()"
   ]
  },
  {
   "cell_type": "markdown",
   "metadata": {},
   "source": [
    "# Apply canny"
   ]
  },
  {
   "cell_type": "code",
   "execution_count": 35,
   "metadata": {},
   "outputs": [],
   "source": [
    "img = cv2.imread('./dataset/hist1.jpg')\n",
    "img = cv2.Canny(img, 80, 185)\n",
    "showImage('canny',img)\n",
    "img = applySobel(img, 'x', 31)\n",
    "cv2.imwrite('./dataset/sobelx31OnCanny.jpg', img)\n",
    "showImage('canny',img)"
   ]
  },
  {
   "cell_type": "markdown",
   "metadata": {},
   "source": []
  }
 ],
 "metadata": {
  "kernelspec": {
   "display_name": "Python 3",
   "language": "python",
   "name": "python3"
  },
  "language_info": {
   "codemirror_mode": {
    "name": "ipython",
    "version": 3
   },
   "file_extension": ".py",
   "mimetype": "text/x-python",
   "name": "python",
   "nbconvert_exporter": "python",
   "pygments_lexer": "ipython3",
   "version": "3.5.2"
  }
 },
 "nbformat": 4,
 "nbformat_minor": 2
}
