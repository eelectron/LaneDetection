{
 "cells": [
  {
   "cell_type": "code",
   "execution_count": 2,
   "metadata": {},
   "outputs": [],
   "source": [
    "import cv2\n",
    "import numpy as np\n",
    "from matplotlib import pyplot as plt"
   ]
  },
  {
   "cell_type": "code",
   "execution_count": 2,
   "metadata": {},
   "outputs": [],
   "source": [
    "def region_of_interest(img, vertices):\n",
    "    # Define a blank matrix that matches the image height/width.\n",
    "    mask = np.zeros_like(img)\n",
    "    \n",
    "    #check if image is grayscale or color\n",
    "    shape = img.shape\n",
    "    if(len(shape) == 3):               #its a color image\n",
    "        mask_color = (255,)*shape[-1]   #shape[-1] = no. at last index\n",
    "    else:                              #otherwise its a gray image\n",
    "        mask_color = 255\n",
    "      \n",
    "    # Fill the polygon with white\n",
    "    cv2.fillPoly(mask, vertices, mask_color)\n",
    "    \n",
    "    # Returning the image only where mask pixels match\n",
    "    masked_image = cv2.bitwise_and(img, mask)\n",
    "    return masked_image"
   ]
  },
  {
   "cell_type": "raw",
   "metadata": {},
   "source": [
    "# HSV value of yellow and white\n",
    " #defining color thresholds\n",
    "    min_val_y = np.array([15,80,190])\n",
    "    max_val_y = np.array([30,255,255])\n",
    "    min_val_w = np.array([0,0,180])\n",
    "    max_val_w = np.array([255, 80, 255])"
   ]
  },
  {
   "cell_type": "code",
   "execution_count": 3,
   "metadata": {},
   "outputs": [],
   "source": [
    "def gaussian_blur(img, kernel_size):\n",
    "    \"\"\"Applies a Gaussian Noise kernel\"\"\"\n",
    "    return cv2.GaussianBlur(img, (kernel_size, kernel_size), 0)\n",
    "\n",
    "def filter_color(img):\n",
    "    yellow_min = np.array([50, 80, 80], np.uint8)\n",
    "    yellow_max = np.array([60, 255, 255], np.uint8)\n",
    "    yellow_mask = cv2.inRange(img, yellow_min, yellow_max)\n",
    "\n",
    "    white_min = np.array([200, 0, 200], np.uint8)\n",
    "    white_max = np.array([255, 0, 255], np.uint8)\n",
    "    white_mask = cv2.inRange(img, white_min, white_max)\n",
    "    \n",
    "    yelWhtMerge = cv2.bitwise_or(yellow_mask, white_mask)\n",
    "    img = cv2.bitwise_and(img, img, yelWhtMerge)\n",
    "    return img"
   ]
  },
  {
   "cell_type": "code",
   "execution_count": 5,
   "metadata": {},
   "outputs": [],
   "source": [
    "cap = cv2.VideoCapture('../dataset/day-lane.mp4')\n",
    "\n",
    "#get height and width of frame\n",
    "ret, frame = cap.read()\n",
    "height, width, channel = frame.shape\n",
    "\n",
    "#keeping the portion of image which contains lane\n",
    "topLeftPt = (width*0.30, height*0.60)\n",
    "topRightPt = (width*0.70, height*0.60)\n",
    "\n",
    "#polygon has 6 vertices\n",
    "region_of_interest_points = [\n",
    "(0, height*0.90),\n",
    "#(0, height*0.60),\n",
    "topLeftPt,\n",
    "topRightPt,\n",
    "#(width, height*0.60),\n",
    "(width, height*0.90),\n",
    "]\n",
    "\n",
    "i = 1  #image count\n",
    "while(cap.isOpened()):\n",
    "    # Take each frame\n",
    "    ret, frame = cap.read()\n",
    "    '''\n",
    "    #increase intensity by I = R + G -B\n",
    "    frame = frame[:,:,2] + frame[:,:,1] - frame[:,:,0] \n",
    "    canny = cv2.Canny(frame, 171, 255)\n",
    "    cv2.imshow('intense', frame)\n",
    "    \n",
    "    #crop image\n",
    "    cropped = region_of_interest(canny, np.array([region_of_interest_points], np.int32))\n",
    "    cv2.imshow('cropped', cropped)\n",
    "    '''\n",
    "    cv2.imshow('denoise', frame)\n",
    "    k = cv2.waitKey(25) & 0xFF\n",
    "    if k == ord('q'):\n",
    "        break\n",
    "    elif k == ord('s'):\n",
    "        cv2.imwrite('dataset/ld'+str(i)+'.jpg', frame)\n",
    "        i += 1\n",
    "\n",
    "cap.release()\n",
    "cv2.destroyAllWindows()"
   ]
  },
  {
   "cell_type": "markdown",
   "metadata": {},
   "source": [
    "# Custom color"
   ]
  },
  {
   "cell_type": "code",
   "execution_count": 28,
   "metadata": {},
   "outputs": [],
   "source": [
    "img = np.zeros((15,15,3), dtype = np.uint8)\n",
    "\n",
    "img[:,:,1] = 255   #saturation\n",
    "img[:,:,2] = 255   #value\n",
    "j = 1\n",
    "#changing hue\n",
    "for i in range(0, 256, 100):\n",
    "    img[:,:,0] = i\n",
    "    #cvt to rgb\n",
    "    color = cv2.cvtColor(img, cv2.COLOR_BGR2HSV)\n",
    "    cv2.imshow('y', color)\n",
    "    j += 1\n",
    "    "
   ]
  },
  {
   "cell_type": "code",
   "execution_count": null,
   "metadata": {},
   "outputs": [],
   "source": []
  },
  {
   "cell_type": "code",
   "execution_count": null,
   "metadata": {},
   "outputs": [],
   "source": []
  }
 ],
 "metadata": {
  "kernelspec": {
   "display_name": "Python 3",
   "language": "python",
   "name": "python3"
  },
  "language_info": {
   "codemirror_mode": {
    "name": "ipython",
    "version": 3
   },
   "file_extension": ".py",
   "mimetype": "text/x-python",
   "name": "python",
   "nbconvert_exporter": "python",
   "pygments_lexer": "ipython3",
   "version": "3.5.2"
  }
 },
 "nbformat": 4,
 "nbformat_minor": 2
}
